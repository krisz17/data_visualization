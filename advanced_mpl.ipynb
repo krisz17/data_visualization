{
 "cells": [
  {
   "cell_type": "markdown",
   "id": "4f337857-2430-4d25-a2cc-f4114e5773e0",
   "metadata": {},
   "source": [
    "https://towardsdatascience.com/advanced-tutorial-how-to-master-matplotlib-like-an-absolute-boss-aae2d4936734"
   ]
  },
  {
   "cell_type": "code",
   "execution_count": null,
   "id": "f8ba1e00-9185-4a7f-9959-f18aabe14aca",
   "metadata": {},
   "outputs": [],
   "source": []
  }
 ],
 "metadata": {
  "kernelspec": {
   "display_name": "Python 3 (ipykernel)",
   "language": "python",
   "name": "python3"
  },
  "language_info": {
   "codemirror_mode": {
    "name": "ipython",
    "version": 3
   },
   "file_extension": ".py",
   "mimetype": "text/x-python",
   "name": "python",
   "nbconvert_exporter": "python",
   "pygments_lexer": "ipython3",
   "version": "3.9.7"
  }
 },
 "nbformat": 4,
 "nbformat_minor": 5
}
